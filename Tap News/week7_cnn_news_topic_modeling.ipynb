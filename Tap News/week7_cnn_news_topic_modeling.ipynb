{
 "cells": [
  {
   "cell_type": "markdown",
   "metadata": {},
   "source": [
    "# Tensorflow and CNN for Topic Classification\n",
    "## Jupyter\n",
    "The Jupyter Notebook is an open-source web application that allows you to create and share documents that contain live code, equations, visualizations and explanatory text. Uses include: data cleaning and transformation, numerical simulation, statistical modeling, machine learning and much more.\n",
    "\n",
    "## Docker\n",
    "It is much more convenient to use a docker image containing `Tensorflow` and `Jupyter`, as well as other common `python3` packages. Luckily, there is a docker image integrating them together:\n",
    "\n",
    "https://github.com/jupyter/docker-stacks/tree/master/tensorflow-notebook\n",
    "\n",
    "**Run**\n",
    "``` bash\n",
    "docker run -it --rm -p 8888:8888 jupyter/tensorflow-notebook\n",
    "\n",
    "```\n",
    "\n",
    "Go to localhost:8888 to start. You may need to enter the token shown in terminal for firt time.\n",
    "\n",
    "If you found some pakcages are missing, you can use following command to 'login' into the docker container and install packages like nltk there.\n",
    "\n",
    "```bash\n",
    "docker exec -it [DOCKER_CONTAINER_ID] /bin/bash\n",
    "```\n"
   ]
  },
  {
   "cell_type": "markdown",
   "metadata": {},
   "source": [
    "## Data\n",
    "### Data Format\n",
    "We will use 537 news with labeled topic to train our model. The format of the data is \n",
    "```\n",
    "[#class_number],[news_title],[news_description],[news_source]\n",
    "```\n",
    "\n",
    "Two example:\n",
    "\n",
    "```\n",
    "3,Trump: Netanyahu should 'hold back' on settlements,\"President Donald Trump told Israeli Prime Minister Benjamin Netanyahu Wednesday that the US is going to push for a peace deal with the Palestinians and asked Israel \"\"to hold back\"\" on settlement construction.\",cnn\n",
    "\n",
    "3,\"Trump: UN treats Israel 'very, very unfairly' - CNN Video\",President Donald Trump and Israeli Prime Minister Benjamin Netanyahu hold a joint press conference at the White House.,cnn\n",
    "```\n",
    "\n",
    "The class is one of total 8 classes:\n",
    "```\n",
    "  1: \"World\",\n",
    "  2: \"US\",\n",
    "  3: \"Business\",\n",
    "  4: \"Technology\",\n",
    "  5: \"Entertainment\",\n",
    "  6: \"Sports\",\n",
    "  7: \"Health\",\n",
    "  8: \"Crime\"\n",
    "```\n",
    "\n",
    "Pandas Dataframe is a useful data structure for data science. Let's look at few of them in pandas dataframe.\n"
   ]
  },
  {
   "cell_type": "code",
   "execution_count": 30,
   "metadata": {},
   "outputs": [
    {
     "name": "stdout",
     "output_type": "stream",
     "text": [
      "0      President Donald Trump told Israeli Prime Mini...\n",
      "1      President Donald Trump and Israeli Prime Minis...\n",
      "2      \"Tomorrow's world will be different -- and it ...\n",
      "3      President Donald Trump told Israeli newspaper ...\n",
      "4      President Trump hosts world leaders. Michael F...\n",
      "5      Israel is at a crossroads: two states or not t...\n",
      "6      Iowa Rep. Steve King says General Michael Flyn...\n",
      "7      High-level advisers close to then-presidential...\n",
      "8      Like parents around the country, Jeanette Vizg...\n",
      "9      White House senior policy adviser Stephen Mill...\n",
      "10     Andrew Puzder has withdrawn as President Donal...\n",
      "11     Here are all the reasons Andy Puzder, Trump's ...\n",
      "12     The ex-wife of Labor Secretary nominee Andy Pu...\n",
      "13     Former national security adviser Michael Flynn...\n",
      "14     The Defense Department might propose that the ...\n",
      "15     Earmarks, the simultaneously hated and beloved...\n",
      "16     The number of hate groups in America spiked in...\n",
      "17     CNN's Jake Tapper discusses how President Dona...\n",
      "18     There is some poetic justice in seeing the man...\n",
      "19     In the end, Andrew Puzder had too much baggage...\n",
      "20     As the fallout from Michael Flynn's resignatio...\n",
      "21     Two top House Republicans asked the Inspector ...\n",
      "22     CNN's Jim Acosta, Sara Murray and Joe Johns al...\n",
      "23     Washington, DC, restaurants and schools are pr...\n",
      "24     The organizers of the Women's March on Washing...\n",
      "25     Workers at Boeing's South Carolina plant go to...\n",
      "26     President Donald Trump rejected the long-estab...\n",
      "27     The vacant spot atop the National Security Cou...\n",
      "28     Trump's administration remains largely unfille...\n",
      "29     Sen. Ted Cruz (R-TX) says he thinks former US ...\n",
      "                             ...                        \n",
      "508    At World View's new headquarters in Tucson, Ar...\n",
      "509    Snap debuts as a public company in soaring IPO...\n",
      "510    Uber is using a tool called \"Greyball\" to work...\n",
      "511    Peter Thiel has been at Donald Trump's side si...\n",
      "512    Another day, another allegation against Uber. ...\n",
      "513    Obama administration officials scrambled to en...\n",
      "514    After learning she doesn’t have long to live, ...\n",
      "515    A program uses data Uber collected to evade la...\n",
      "516    Republicans excoriated Democrats for making “b...\n",
      "517                The first casualty of Trump is truth.\n",
      "518    A panoply of opinions take on the latest video...\n",
      "519    Mr. Sessions’s actions and the surrounding eve...\n",
      "520    The Federal Reserve’s two most senior official...\n",
      "521    FBI Director James Comey is back in the crossh...\n",
      "522    A total of $124 billion has poured into ETFs i...\n",
      "523    As China’s National People’s Congress opens, b...\n",
      "524    A mysterious gambler whose winning streak was ...\n",
      "525    Call centers were hit in October by the larges...\n",
      "526    The social media sector’s has-beens and never-...\n",
      "527    Vice President Mike Pence used a personal emai...\n",
      "528    A Missouri man accused of making threats again...\n",
      "529    “Let your winners run” is one of the oldest ad...\n",
      "530    The National Oceanic and Atmospheric Administr...\n",
      "531    Multiple meetings between campaign associates ...\n",
      "532    Democrats called for the attorney general to o...\n",
      "533    Rod J. Rosenstein’s confirmation hearing for d...\n",
      "534    An important analysis of a tweet from the pres...\n",
      "535    The returnees signify untapped potential but a...\n",
      "536    Different sides look to the president for a cl...\n",
      "537    Uber took extraordinary measures to evade gove...\n",
      "Name: 2, Length: 538, dtype: object\n"
     ]
    }
   ],
   "source": [
    "import pandas as pd\n",
    "\n",
    "DATA_SET_FILE = './labeled_news.csv'\n",
    "\n",
    "df = pd.read_csv(DATA_SET_FILE, header=None)\n",
    "\n",
    "print(df[2])"
   ]
  },
  {
   "cell_type": "markdown",
   "metadata": {},
   "source": [
    "### Statistics\n",
    "Let's first take a look at our data from a statistics perspective.\n",
    "\n",
    "> We can use pandas to do a quick data analysis: http://machinelearningmastery.com/quick-and-dirty-data-analysis-with-pandas/"
   ]
  },
  {
   "cell_type": "code",
   "execution_count": 31,
   "metadata": {},
   "outputs": [
    {
     "name": "stdout",
     "output_type": "stream",
     "text": [
      "class description\n",
      "count    538.000000\n",
      "mean       3.356877\n",
      "std        2.094366\n",
      "min        1.000000\n",
      "25%        2.000000\n",
      "50%        2.000000\n",
      "75%        5.000000\n",
      "max        8.000000\n",
      "Name: 0, dtype: float64\n",
      "\n",
      "\n",
      "=====================\n",
      "\n",
      "\n",
      "source description\n",
      "count     538\n",
      "unique     11\n",
      "top       cnn\n",
      "freq      127\n",
      "Name: 3, dtype: object\n"
     ]
    }
   ],
   "source": [
    "import pandas as pd\n",
    "\n",
    "DATA_SET_FILE = './labeled_news.csv'\n",
    "\n",
    "df = pd.read_csv(DATA_SET_FILE, header=None)\n",
    "\n",
    "\n",
    "print(\"class description\")\n",
    "print(df[0].describe())\n",
    "\n",
    "print(\"\"\"\n",
    "\n",
    "=====================\n",
    "\n",
    "\"\"\")\n",
    "\n",
    "print(\"source description\")\n",
    "print(df[3].describe())\n"
   ]
  },
  {
   "cell_type": "markdown",
   "metadata": {},
   "source": [
    "**Class Distribution**"
   ]
  },
  {
   "cell_type": "code",
   "execution_count": 32,
   "metadata": {},
   "outputs": [
    {
     "data": {
      "text/plain": [
       "<matplotlib.axes._subplots.AxesSubplot at 0x7f1ba66ab438>"
      ]
     },
     "execution_count": 32,
     "metadata": {},
     "output_type": "execute_result"
    },
    {
     "data": {
      "image/png": "[encoded data removed]",
      "text/plain": [
       "<Figure size 432x288 with 1 Axes>"
      ]
     },
     "metadata": {},
     "output_type": "display_data"
    }
   ],
   "source": [
    "import matplotlib.pyplot as plt\n",
    "\n",
    "plt.style.use= 'default'\n",
    "\n",
    "df[0].value_counts().plot(kind=\"bar\")\n"
   ]
  },
  {
   "cell_type": "markdown",
   "metadata": {},
   "source": [
    "**Source Distribution**"
   ]
  },
  {
   "cell_type": "code",
   "execution_count": 6,
   "metadata": {},
   "outputs": [
    {
     "data": {
      "text/plain": [
       "<matplotlib.axes._subplots.AxesSubplot at 0x7f1bd135d0f0>"
      ]
     },
     "execution_count": 6,
     "metadata": {},
     "output_type": "execute_result"
    },
    {
     "data": {
      "image/png": "[encoded data removed]",
      "text/plain": [
       "<Figure size 432x288 with 1 Axes>"
      ]
     },
     "metadata": {},
     "output_type": "display_data"
    }
   ],
   "source": [
    "df[3].value_counts().plot(kind=\"bar\")"
   ]
  },
  {
   "cell_type": "markdown",
   "metadata": {},
   "source": [
    "## Vocabulary Preprocessing\n",
    "For text, we usually need tokenization and stemming.\n",
    "### Tokenization\n",
    "The process of converting a sequence of characters (such as in a computer program or web page) into a sequence of tokens\n",
    "\n",
    "```\n",
    "\"I like apple, but I hate apple juice.\"  =>  [\"I\", \"like\", \"apple\", \",\", \"but\", \"I\", \"hate\", \"apple\", \"juice\", \".\"]\n",
    "```"
   ]
  },
  {
   "cell_type": "code",
   "execution_count": 34,
   "metadata": {},
   "outputs": [
    {
     "name": "stdout",
     "output_type": "stream",
     "text": [
      "['I', 'like', 'apple', ',', 'but', 'I', 'hate', 'apple', 'juice', '.']\n"
     ]
    }
   ],
   "source": [
    "from nltk.tokenize import word_tokenize\n",
    "\n",
    "sentence = \"I like apple, but I hate apple juice.\"\n",
    "\n",
    "print(word_tokenize(sentence))"
   ]
  },
  {
   "cell_type": "markdown",
   "metadata": {},
   "source": [
    "### Stopwords\n",
    "Stop Words are words which do not contain important significance. Usually these words are filtered out because they return vast amount of unnecessary information.\n",
    "```\n",
    "a\n",
    "about\n",
    "above\n",
    "after\n",
    "again\n",
    "against\n",
    "all\n",
    "am\n",
    "an\n",
    "and\n",
    "any\n",
    "...\n",
    "```"
   ]
  },
  {
   "cell_type": "code",
   "execution_count": 35,
   "metadata": {},
   "outputs": [
    {
     "name": "stdout",
     "output_type": "stream",
     "text": [
      "{'in', \"hasn't\", 'nor', 'yourself', 'it', 'doing', \"isn't\", 'its', \"mustn't\", 'most', 'while', 'off', 'this', \"doesn't\", 'too', 'so', 'mightn', 'each', 'him', 'be', 'wasn', \"you'd\", 'down', 'my', 'herself', 'as', 'himself', 's', 'am', 'about', 'should', 'at', 'won', 'until', 'ain', 'our', 'd', \"you'll\", 'aren', \"weren't\", 'yours', 'me', 'she', \"don't\", \"mightn't\", 'by', 'didn', 'more', 'don', 'on', 'how', 'was', 'very', 'will', 'ourselves', 'to', \"won't\", 'ours', 'below', 'own', 'myself', 'which', \"didn't\", 'when', 'being', 'll', 'can', 'under', 'having', 'hadn', 'with', 'because', 'now', 'itself', 'y', \"haven't\", 'further', 'isn', 't', 'they', 'other', 'doesn', 'from', 'all', 'some', 'over', 'up', \"aren't\", 'is', 'then', 'both', 'these', 'were', 'same', 've', 'ma', 'or', \"needn't\", \"wasn't\", 'a', 'after', \"you're\", 'few', 'why', 'of', 'shan', 'only', 'yourselves', 'that', 'just', 'what', 'once', 'no', 're', 'his', 'any', 'such', 'there', \"shouldn't\", 'shouldn', 'we', 'he', \"you've\", 'hers', 'than', 'do', 'm', 'has', \"she's\", \"that'll\", 'but', 'you', \"should've\", 'o', 'does', 'been', 'for', 'out', 'theirs', 'where', 'between', 'are', 'here', \"couldn't\", 'did', 'her', 'themselves', 'those', 'couldn', 'haven', 'weren', 'and', 'them', 'i', 'needn', 'their', 'had', 'during', 'if', 'against', 'an', \"wouldn't\", 'through', 'again', 'have', 'into', 'who', 'before', \"shan't\", 'wouldn', 'your', 'above', 'hasn', 'mustn', 'not', \"hadn't\", \"it's\", 'whom', 'the'}\n"
     ]
    }
   ],
   "source": [
    "from nltk.corpus import stopwords\n",
    "\n",
    "stop_words = set(stopwords.words('english'))\n",
    "print(stop_words)"
   ]
  },
  {
   "cell_type": "markdown",
   "metadata": {},
   "source": [
    "### Stemming\n",
    "We want to use the stem of words.\n",
    "```\n",
    "\"fishing\", \"fished\", \"fisher\", \"fishes\" => \"fish\"\n",
    "```\n",
    "\n",
    "The three major stemming algorithms in use today are Porter, Snowball(Porter2), and Lancaster (Paice-Husk)."
   ]
  },
  {
   "cell_type": "code",
   "execution_count": 36,
   "metadata": {},
   "outputs": [
    {
     "name": "stdout",
     "output_type": "stream",
     "text": [
      "['fish', 'fish', 'fish', 'fish']\n",
      "['fish', 'fish', 'fisher', 'fish']\n",
      "['fish', 'fish', 'fisher', 'fish']\n"
     ]
    }
   ],
   "source": [
    "from nltk.stem.lancaster import LancasterStemmer\n",
    "from nltk.stem.porter import PorterStemmer\n",
    "from nltk.stem.snowball import PorterStemmer as SnowballStemmer\n",
    "\n",
    "\n",
    "lancaster_stemmer = LancasterStemmer()\n",
    "porter_stemmer = PorterStemmer()\n",
    "snowball_stemmer = SnowballStemmer()\n",
    "\n",
    "words = [\"fishing\", \"fished\", \"fisher\", \"fishes\"]\n",
    "\n",
    "print([lancaster_stemmer.stem(w.lower()) for w in words])\n",
    "print([porter_stemmer.stem(w.lower()) for w in words])\n",
    "print([snowball_stemmer.stem(w.lower()) for w in words])"
   ]
  },
  {
   "cell_type": "markdown",
   "metadata": {},
   "source": [
    "## Vocabulary Embedding\n",
    "Tensorflow cannot handle String directly. Therefore, we need to convert String into vectors. This is called embedding.\n",
    "\n",
    "One example:\n",
    "```\n",
    "    Sentence 1: \"I like apple\"\n",
    "    Sentence 2: \"I like banana\"\n",
    "    Sentence 3: \"I eat apple\"\n",
    "```\n",
    "\n",
    "We scan all 3 sentences then we found there are 5 unique words: \n",
    "```\n",
    "    ['I', 'like', 'eat', 'apple', 'banana']\n",
    "```\n",
    "Now we can use number to represent each of them:\n",
    "```\n",
    "    [0, 1, 2, 3, 4]\n",
    "```\n",
    "So, the three sentences can be encoded into:\n",
    "```\n",
    "    Sentence 1: [0, 1, 3]\n",
    "    Sentence 2: [0, 1, 4]\n",
    "    Sentence 3: [0, 2, 3]\n",
    "```\n",
    "\n",
    "### VocabularyProcessor\n",
    "Tensorflow provides a easy-to-use tool to do embedding.\n"
   ]
  },
  {
   "cell_type": "code",
   "execution_count": 40,
   "metadata": {},
   "outputs": [
    {
     "name": "stdout",
     "output_type": "stream",
     "text": [
      "[[1 2 3 0 0]\n",
      " [1 2 4 0 0]\n",
      " [1 5 3 0 0]]\n",
      "Total unique words: 6\n",
      "\n",
      "[[0 0 0 0 0]\n",
      " [1 0 0 0 0]\n",
      " [1 2 4 0 0]\n",
      " [1 5 3 0 0]]\n"
     ]
    }
   ],
   "source": [
    "import numpy as np\n",
    "import tensorflow as tf\n",
    "\n",
    "MAX_DOCUMENT_LENGTH = 5\n",
    "\n",
    "vocab_processor = tf.contrib.learn.preprocessing.VocabularyProcessor(MAX_DOCUMENT_LENGTH)\n",
    "\n",
    "# fit and transform\n",
    "sentences = [\n",
    "    \"I like apple\",\n",
    "    \"I like banana\",\n",
    "    \"I eat apple\"\n",
    "]\n",
    "\n",
    "embedded_sentences = np.array(list(vocab_processor.fit_transform(sentences)))\n",
    "print(embedded_sentences)\n",
    "\n",
    "print('Total unique words: %d' % len(vocab_processor.vocabulary_))\n",
    "\n",
    "print(\"\")\n",
    "# just fit: unseen words will be interpreted as 0\n",
    "new_sentences = [\n",
    "    \"This is a brand new sentence which we never seen before and is very long\",\n",
    "    \"I hate doing homework!\",\n",
    "    \"I like banana\",\n",
    "    \"I eat apple\"\n",
    "]\n",
    "\n",
    "new_embedded_sentences = np.array(list(vocab_processor.transform(new_sentences)))\n",
    "print(new_embedded_sentences)\n"
   ]
  },
  {
   "cell_type": "markdown",
   "metadata": {},
   "source": [
    "### One-hot Embedding\n",
    "We have converted the string into an integer vector. But that is not good enough. We need to convert a word into one-hot vector:\n",
    "```\n",
    "Assume we only have 10 unique words.\n",
    "\n",
    "    0 -> [1, 0, 0, 0, 0, 0, 0, 0, 0, 0]\n",
    "    1 -> [0, 1, 0, 0, 0, 0, 0, 0, 0, 0]\n",
    "    2 -> [0, 0, 1, 0, 0, 0, 0, 0, 0, 0]\n",
    "    3 -> [0, 0, 0, 1, 0, 0, 0, 0, 0, 0]\n",
    "    4 -> [0, 0, 0, 0, 1, 0, 0, 0, 0, 0]\n",
    "    5 -> [0, 0, 0, 0, 0, 1, 0, 0, 0, 0]\n",
    "    6 -> [0, 0, 0, 0, 0, 0, 1, 0, 0, 0]\n",
    "    7 -> [0, 0, 0, 0, 0, 0, 0, 1, 0, 0]\n",
    "    8 -> [0, 0, 0, 0, 0, 0, 0, 0, 1, 0]\n",
    "    9 -> [0, 0, 0, 0, 0, 0, 0, 0, 0, 1]\n",
    "```\n",
    "\n",
    "Thus, one setence is converted into a matrix:\n",
    "\n",
    "```\n",
    "Assume there are only 5 unique words:\n",
    "\n",
    "    \"I like apple\" \n",
    "-> \n",
    "    [1 2 3 0 0] \n",
    "->\n",
    "    [\n",
    "        [0, 1, 0, 0, 0],  => I\n",
    "        [0, 0, 1, 0, 0],  => like\n",
    "        [0, 0, 0, 1, 0],  => apple\n",
    "        [1, 0, 0, 0, 0],  => padding\n",
    "        [1, 0, 0, 0, 0]   => padding\n",
    "    ]\n",
    "```\n",
    "\n",
    "#### Tensorflow embed_sequence\n",
    "Tensorflow provides tf.contrib.layers.embed_sequence which can help use with one-hot embedding. \n",
    "\n",
    "In real world, we don't use native [0, 1] way to label a word, but use a real number."
   ]
  },
  {
   "cell_type": "code",
   "execution_count": 42,
   "metadata": {},
   "outputs": [
    {
     "name": "stdout",
     "output_type": "stream",
     "text": [
      "[[[-0.20643294 -0.57868165  0.76026797]\n",
      "  [-0.53346086  0.035429    0.73755586]\n",
      "  [ 0.74501431  0.26341224 -0.77192366]\n",
      "  [ 0.34859657  0.25023651  0.25481105]\n",
      "  [ 0.34859657  0.25023651  0.25481105]]]\n"
     ]
    }
   ],
   "source": [
    "import tensorflow as tf\n",
    "\n",
    "vocab_size = 6\n",
    "embed_dim =  3\n",
    "\n",
    "sentences = [\n",
    "    [1, 2, 3, 0, 0]\n",
    "]\n",
    "embedded_setences = tf.contrib.layers.embed_sequence(sentences, vocab_size, embed_dim)\n",
    "\n",
    "with tf.Session() as sess:\n",
    "    sess.run(tf.global_variables_initializer())\n",
    "    result = sess.run(embedded_setences)\n",
    "    print(result)\n"
   ]
  },
  {
   "cell_type": "markdown",
   "metadata": {},
   "source": [
    "## Convolutional Neural Networks (CNNs)\n",
    "We cannot dive deep into what is convolution here. \n",
    "\n",
    "But here is a great article about CNNs for NLP:\n",
    "http://www.wildml.com/2015/11/understanding-convolutional-neural-networks-for-nlp/\n",
    "\n",
    "### Convolution\n",
    "![image](http://deeplearning.stanford.edu/wiki/images/6/6c/Convolution_schematic.gif)\n",
    "\n",
    "### Pooling\n",
    "![image](http://d3kbpzbmcynnmx.cloudfront.net/wp-content/uploads/2015/11/Screen-Shot-2015-11-05-at-2.18.38-PM.png)\n",
    "\n",
    "## Put Eveyrthing Together"
   ]
  },
  {
   "cell_type": "code",
   "execution_count": 43,
   "metadata": {},
   "outputs": [
    {
     "name": "stdout",
     "output_type": "stream",
     "text": [
      "Total words: 859\n",
      "INFO:tensorflow:Using default config.\n",
      "WARNING:tensorflow:Using temporary folder as model directory: /tmp/tmpuw_6638w\n",
      "INFO:tensorflow:Using config: {'_task_type': None, '_task_id': 0, '_cluster_spec': <tensorflow.python.training.server_lib.ClusterSpec object at 0x7f1b3c046e80>, '_master': '', '_num_ps_replicas': 0, '_num_worker_replicas': 0, '_environment': 'local', '_is_chief': True, '_evaluation_master': '', '_tf_config': gpu_options {\n",
      "  per_process_gpu_memory_fraction: 1.0\n",
      "}\n",
      ", '_tf_random_seed': None, '_save_summary_steps': 100, '_save_checkpoints_secs': 600, '_log_step_count_steps': 100, '_session_config': None, '_save_checkpoints_steps': None, '_keep_checkpoint_max': 5, '_keep_checkpoint_every_n_hours': 10000, '_model_dir': '/tmp/tmpuw_6638w'}\n",
      "INFO:tensorflow:Create CheckpointSaverHook.\n",
      "INFO:tensorflow:Saving checkpoints for 1 into /tmp/tmpuw_6638w/model.ckpt.\n",
      "INFO:tensorflow:loss = 2.07833, step = 1\n",
      "INFO:tensorflow:Saving checkpoints for 50 into /tmp/tmpuw_6638w/model.ckpt.\n",
      "INFO:tensorflow:Loss for final step: 0.340384.\n",
      "INFO:tensorflow:Restoring parameters from /tmp/tmpuw_6638w/model.ckpt-50\n",
      "[1, 1, 1, 1, 2, 2, 1, 1, 6, 6, 2, 1, 6, 2, 1, 6, 1, 2, 1, 6, 6, 2, 1, 6, 2, 1, 2, 6, 1, 1, 6, 1, 1, 1, 2, 6, 1, 2, 6, 1, 1, 1, 1, 2, 1, 1, 6, 6, 1, 1, 6, 1, 1, 6, 1, 2, 1, 1, 2, 1, 1, 2, 2, 2, 1, 1, 1, 1, 1, 6, 6, 1, 1, 2, 1, 1, 6, 1, 6, 6, 6, 6, 2, 1, 2, 1, 1, 2, 6, 1, 2, 6, 4, 6, 6, 1, 1, 1, 2, 1, 2, 2, 1, 2, 1, 1, 6, 4, 1, 1, 6, 4, 6, 1, 6, 1, 6, 2, 6, 6, 1, 2, 1, 2, 1, 1, 6, 2, 2, 6, 1, 1, 1, 6, 6, 2, 2, 6, 1, 1, 6, 6, 1, 2, 1, 2, 1, 6, 1, 1, 6, 6, 6, 6, 1, 1, 1, 2, 2, 2, 1, 1, 6, 6, 1, 2, 1, 1, 2, 6, 1, 1, 1, 1, 6, 1, 2, 1, 1, 1, 2, 1, 6, 2, 1, 1, 2, 1, 1, 6, 6, 1, 1, 2, 1, 6, 1, 2, 6, 2, 1, 6, 6, 1, 6, 1, 1, 2, 2, 1, 2, 2, 6, 2, 1, 2, 1, 6, 1, 2, 2, 6, 1, 6, 2, 6, 1, 6, 2, 6, 6, 1, 1, 6, 1, 2, 2, 1, 1, 2, 2, 1, 1, 1, 1, 6, 6, 6, 2, 1, 6, 1, 2, 2, 2, 6, 1, 6, 1, 2, 1, 2, 1, 2, 2, 1, 1, 2, 1, 2, 2, 1, 1, 1, 1, 1, 2, 2, 1, 1, 2, 2, 2, 2, 1, 1, 6, 4, 6, 6, 2, 6, 2, 2, 2, 6, 2, 2, 1, 1, 1, 2, 6, 6, 1, 6, 6, 1, 6, 2, 1, 1, 2, 1, 1, 1, 2, 6, 1, 1, 1, 6, 1, 6, 4, 6, 1, 1, 2, 1, 1, 1, 6, 1, 6, 4, 1, 2, 2, 2, 1, 1, 2, 6, 6, 2, 2, 2, 6, 1, 6, 6, 1, 1, 1, 2, 2, 2, 2, 2, 6, 1, 2, 6, 2, 4, 6, 6, 2, 2, 1, 2, 1, 6, 2, 2, 2, 1, 2, 6, 6, 6, 6, 2, 2, 2, 2, 2, 6, 2, 1, 2, 2, 2, 2, 1, 2, 6, 2, 1, 2, 6, 6, 1, 2, 1, 1, 6, 6, 2, 2, 1, 1, 2, 6, 6, 2, 2, 2, 2, 6, 6, 1, 1, 6, 6, 6, 1, 1, 6, 1, 2, 1, 1, 2, 1, 1, 1, 1, 1, 1, 2, 2, 1, 6, 6, 6, 1, 1, 1, 1, 2, 1, 1, 1, 1, 6, 2]\n",
      "Accuracy: 0.257642\n"
     ]
    },
    {
     "ename": "SystemExit",
     "evalue": "",
     "output_type": "error",
     "traceback": [
      "An exception has occurred, use %tb to see the full traceback.\n",
      "\u001b[0;31mSystemExit\u001b[0m\n"
     ]
    },
    {
     "name": "stderr",
     "output_type": "stream",
     "text": [
      "/opt/conda/lib/python3.6/site-packages/IPython/core/interactiveshell.py:2971: UserWarning: To exit: use 'exit', 'quit', or Ctrl-D.\n",
      "  warn(\"To exit: use 'exit', 'quit', or Ctrl-D.\", stacklevel=1)\n"
     ]
    }
   ],
   "source": [
    "# -*- coding: utf-8 -*-\n",
    "\n",
    "import numpy as np\n",
    "import os\n",
    "import pandas as pd\n",
    "import pickle\n",
    "import shutil\n",
    "import tensorflow as tf\n",
    "\n",
    "from nltk.corpus import stopwords\n",
    "from nltk.stem.porter import PorterStemmer\n",
    "from nltk.tokenize import word_tokenize\n",
    "from sklearn import metrics\n",
    "\n",
    "learn = tf.contrib.learn\n",
    "\n",
    "DATA_SET_FILE = './labeled_news.csv'\n",
    "\n",
    "MAX_DOCUMENT_LENGTH = 500\n",
    "N_CLASSES = 8\n",
    "\n",
    "\n",
    "EMBEDDING_SIZE = 100\n",
    "N_FILTERS = 10\n",
    "WINDOW_SIZE = 10\n",
    "FILTER_SHAPE1 = [WINDOW_SIZE, EMBEDDING_SIZE]\n",
    "FILTER_SHAPE2 = [WINDOW_SIZE, N_FILTERS]\n",
    "POOLING_WINDOW = 4\n",
    "POOLING_STRIDE = 2\n",
    "\n",
    "LEARNING_RATE = 0.01\n",
    "STEPS = 50 # Set a small number for demonstration purpose.\n",
    "\n",
    "stemmer = PorterStemmer()\n",
    "stop_words = set(stopwords.words('english'))\n",
    "\n",
    "def generate_cnn_model(n_classes, n_words):\n",
    "    \"\"\"2 layer CNN to predict from sequence of words to a class.\"\"\"\n",
    "    def cnn_model(features, target):\n",
    "        # Convert indexes of words into embeddings.\n",
    "        # This creates embeddings matrix of [n_words, EMBEDDING_SIZE] and then\n",
    "        # maps word indexes of the sequence into [batch_size, sequence_length,\n",
    "        # EMBEDDING_SIZE].\n",
    "\n",
    "        target = tf.one_hot(target, n_classes, 1, 0)\n",
    "        word_vectors = tf.contrib.layers.embed_sequence(\n",
    "            features, vocab_size=n_words, embed_dim=EMBEDDING_SIZE, scope='words')\n",
    "\n",
    "        word_vectors = tf.expand_dims(word_vectors, 3)\n",
    "        \n",
    "        with tf.variable_scope('CNN_layer1'):\n",
    "            # Apply Convolution filtering on input sequence.\n",
    "            conv1 = tf.contrib.layers.convolution2d(\n",
    "                word_vectors, N_FILTERS, FILTER_SHAPE1, padding='VALID')\n",
    "            # Add a RELU for non linearity.\n",
    "            conv1 = tf.nn.relu(conv1)\n",
    "            # Max pooling across output of Convolution+Relu.\n",
    "            pool1 = tf.nn.max_pool(\n",
    "                conv1,\n",
    "                ksize=[1, POOLING_WINDOW, 1, 1],\n",
    "                strides=[1, POOLING_STRIDE, 1, 1],\n",
    "                padding='SAME')\n",
    "            # Transpose matrix so that n_filters from convolution becomes width.\n",
    "            pool1 = tf.transpose(pool1, [0, 1, 3, 2])\n",
    "      \n",
    "        with tf.variable_scope('CNN_layer2'):\n",
    "            # Second level of convolution filtering.\n",
    "            conv2 = tf.contrib.layers.convolution2d(\n",
    "                pool1, N_FILTERS, FILTER_SHAPE2, padding='VALID')\n",
    "            # Max across each filter to get useful features for classification.\n",
    "            pool2 = tf.squeeze(tf.reduce_max(conv2, 1), squeeze_dims=[1])\n",
    "\n",
    "        # Apply regular WX + B and classification.\n",
    "        logits = tf.contrib.layers.fully_connected(pool2, n_classes, activation_fn=None)\n",
    "        loss = tf.contrib.losses.softmax_cross_entropy(logits, target)\n",
    "\n",
    "        train_op = tf.contrib.layers.optimize_loss(\n",
    "          loss,\n",
    "          tf.contrib.framework.get_global_step(),\n",
    "          optimizer='Adam',\n",
    "          learning_rate=LEARNING_RATE)\n",
    "\n",
    "        return ({\n",
    "          'class': tf.argmax(logits, 1),\n",
    "          'prob': tf.nn.softmax(logits)\n",
    "        }, loss, train_op)\n",
    "\n",
    "    return cnn_model\n",
    "\n",
    "\n",
    "def main(unused_argv):\n",
    "    # Prepare training and testing data\n",
    "    df = pd.read_csv(DATA_SET_FILE, header=None)\n",
    "\n",
    "    # Random shuffle\n",
    "    df.sample(frac=0.2)\n",
    "\n",
    "    train_df = df[0:80]\n",
    "    test_df = df.drop(train_df.index)\n",
    "\n",
    "    # x - news description, y - class\n",
    "    x_train = train_df[2]\n",
    "    y_train = train_df[0]\n",
    "    x_test = test_df[2]\n",
    "    y_test = test_df[0]\n",
    "\n",
    "    # tokenize sentences\n",
    "    x_train = [word_tokenize(sentence) for sentence in x_train.tolist()]\n",
    "    x_test = [word_tokenize(sentence) for sentence in x_test.tolist()]\n",
    "\n",
    "    # Stemming words.\n",
    "    norm_x_train = []\n",
    "    norm_x_test = []\n",
    "    for tokens in x_train:\n",
    "        stemmed_tokens = [stemmer.stem(w.lower()) for w in tokens if not w in stop_words]\n",
    "        norm_sentence =  ' '.join(stemmed_tokens)\n",
    "        norm_x_train.append(norm_sentence)\n",
    "\n",
    "    for tokens in x_test:\n",
    "        stemmed_tokens = [stemmer.stem(w.lower()) for w in tokens if not w in stop_words]\n",
    "        norm_sentence =  ' '.join(stemmed_tokens)\n",
    "        norm_x_test.append(norm_sentence)\n",
    "\n",
    "    x_train = norm_x_train\n",
    "    x_test = norm_x_test\n",
    "\n",
    "    # Process vocabulary\n",
    "    vocab_processor = learn.preprocessing.VocabularyProcessor(MAX_DOCUMENT_LENGTH)\n",
    "    x_train = np.array(list(vocab_processor.fit_transform(x_train)))\n",
    "    x_test = np.array(list(vocab_processor.transform(x_test)))\n",
    "\n",
    "    n_words = len(vocab_processor.vocabulary_)\n",
    "    print('Total words: %d' % n_words)\n",
    "  \n",
    "    # Build model\n",
    "    classifier = learn.Estimator(\n",
    "        model_fn=generate_cnn_model(N_CLASSES, n_words))\n",
    "\n",
    "    # Train and predict\n",
    "    classifier.fit(x_train, y_train, steps=STEPS)\n",
    "\n",
    "    # Evaluate model\n",
    "    y_predicted = [\n",
    "        p['class'] for p in classifier.predict(x_test, as_iterable=True)\n",
    "    ]\n",
    "    print(y_predicted)\n",
    "\n",
    "    score = metrics.accuracy_score(y_test, y_predicted)\n",
    "    print('Accuracy: {0:f}'.format(score))\n",
    "\n",
    "if __name__ == '__main__':\n",
    "    tf.app.run(main=main)\n",
    "\n"
   ]
  },
  {
   "cell_type": "code",
   "execution_count": null,
   "metadata": {
    "collapsed": true
   },
   "outputs": [],
   "source": []
  },
  {
   "cell_type": "code",
   "execution_count": null,
   "metadata": {
    "collapsed": true
   },
   "outputs": [],
   "source": []
  }
 ],
 "metadata": {
  "kernelspec": {
   "display_name": "Python 3",
   "language": "python",
   "name": "python3"
  },
  "language_info": {
   "codemirror_mode": {
    "name": "ipython",
    "version": 3
   },
   "file_extension": ".py",
   "mimetype": "text/x-python",
   "name": "python",
   "nbconvert_exporter": "python",
   "pygments_lexer": "ipython3",
   "version": "3.6.5"
  }
 },
 "nbformat": 4,
 "nbformat_minor": 2
}
